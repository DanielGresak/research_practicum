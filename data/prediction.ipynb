{
 "cells": [
  {
   "cell_type": "code",
   "execution_count": 7,
   "metadata": {},
   "outputs": [],
   "source": [
    "import traceback\n",
    "import json\n",
    "import pickle\n",
    "import datetime\n",
    "import sys"
   ]
  },
  {
   "cell_type": "code",
   "execution_count": 27,
   "metadata": {},
   "outputs": [],
   "source": [
    "def prediction(line, direction, wind_speed, rain_1h, clouds_all, hour, weekday, month):\n",
    "    name = f\"route_{line}_{direction}\"\n",
    "    path = f\"/home/team16/tmp/data/models2/{name}.pkl\"\n",
    "    linear_reg = pickle.load(open(path, 'rb'))\n",
    "    inputs = []\n",
    "    inputs.append(wind_speed)\n",
    "    inputs.append(rain_1h)\n",
    "    inputs.append(clouds_all)\n",
    "    inputs.append(hour)\n",
    "    weekday_list = [0] * 7\n",
    "    weekday_list[(weekday-1)] = 1\n",
    "    month_list = [0] * 12\n",
    "    month_list[(month-1)] = 1\n",
    "    inputs.extend(weekday_list)\n",
    "    inputs.extend(month_list)\n",
    "    model_prediction = linear_reg.predict([inputs])[0]\n",
    "    print(f\"Model prediciton: {model_prediction} seconds\")\n"
   ]
  },
  {
   "cell_type": "code",
   "execution_count": 29,
   "metadata": {},
   "outputs": [
    {
     "name": "stdout",
     "output_type": "stream",
     "text": [
      "Model prediciton: 4612.512947155206 seconds\n"
     ]
    },
    {
     "name": "stderr",
     "output_type": "stream",
     "text": [
      "/home/team16/env/anaconda3/envs/msLearn/lib/python3.10/site-packages/sklearn/base.py:450: UserWarning: X does not have valid feature names, but LinearRegression was fitted with feature names\n",
      "  warnings.warn(\n"
     ]
    }
   ],
   "source": [
    "prediction('46A','inbound', 4.1, 1, 41, 9, 5, 1)"
   ]
  }
 ],
 "metadata": {
  "kernelspec": {
   "display_name": "Python 3 (ipykernel)",
   "language": "python",
   "name": "python3"
  },
  "language_info": {
   "codemirror_mode": {
    "name": "ipython",
    "version": 3
   },
   "file_extension": ".py",
   "mimetype": "text/x-python",
   "name": "python",
   "nbconvert_exporter": "python",
   "pygments_lexer": "ipython3",
   "version": "3.10.4"
  },
  "orig_nbformat": 4
 },
 "nbformat": 4,
 "nbformat_minor": 2
}
